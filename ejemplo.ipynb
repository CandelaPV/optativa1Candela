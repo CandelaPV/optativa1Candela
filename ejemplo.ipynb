{
 "cells": [
  {
   "cell_type": "markdown",
   "metadata": {},
   "source": [
    "# Mi primer Notebook!"
   ]
  },
  {
   "cell_type": "markdown",
   "metadata": {},
   "source": [
    "2do C. Piñeiro Vila, Candela"
   ]
  },
  {
   "cell_type": "code",
   "execution_count": null,
   "metadata": {},
   "outputs": [
    {
     "name": "stdout",
     "output_type": "stream",
     "text": [
      "Hola mundo\n"
     ]
    }
   ],
   "source": [
    "print(\"Hola mundo\")"
   ]
  },
  {
   "cell_type": "markdown",
   "metadata": {},
   "source": [
    "## Mis primeros descriptivos con Pandas"
   ]
  },
  {
   "cell_type": "markdown",
   "metadata": {},
   "source": [
    "Importa la biblioteca pandas y la asigna al alias 'pd' para manipulación de datos.\n"
   ]
  },
  {
   "cell_type": "code",
   "execution_count": null,
   "metadata": {},
   "outputs": [],
   "source": [
    "# Importa la biblioteca 'pandas' y la asigna al alias 'pd' para facilitar su uso.\n",
    "import pandas as pd"
   ]
  },
  {
   "cell_type": "markdown",
   "metadata": {},
   "source": [
    "Crea un diccionario con listas de edades y pesos, luego lo convierte en un DataFrame."
   ]
  },
  {
   "cell_type": "code",
   "execution_count": null,
   "metadata": {},
   "outputs": [],
   "source": [
    "# Crea un diccionario llamado 'datos' con listas de valores para 'edad' y 'peso'\n",
    "datos = {\n",
    "        'edad': [8, 9, 10, 11, 12],\n",
    "        'peso': [30, 32, 35, 37, 40]\n",
    "}\n",
    "# Convierte el diccionario 'datos' en un DataFrame de pandas llamado 'df'\n",
    "df = pd.DataFrame(datos)"
   ]
  },
  {
   "cell_type": "markdown",
   "metadata": {},
   "source": [
    "Calcula la media y desviación típica de 'edad' y 'peso', y las imprime."
   ]
  },
  {
   "cell_type": "code",
   "execution_count": null,
   "metadata": {},
   "outputs": [
    {
     "name": "stdout",
     "output_type": "stream",
     "text": [
      "Media de Edad: 10.0\n",
      "Desviación Típica de Edad: 1.5811388300841898\n",
      "Media de Peso: 34.8\n",
      "Desviación Típica de Peso: 3.9623225512317903\n"
     ]
    }
   ],
   "source": [
    "# Calcula la media (promedio) de la columna 'edad' en el DataFrame 'df'\n",
    "media_edad = df['edad'].mean()\n",
    "# Calcula la desviación típica (desviación estándar) de la columna 'edad' en el DataFrame 'df'\n",
    "desviacion_tipica_edad = df['edad'].std()\n",
    "# Calcula la media (promedio) de la columna 'peso' en el DataFrame 'df'\n",
    "media_peso = df['peso'].mean()\n",
    "# Calcula la desviación típica (desviación estándar) de la columna 'peso' en el DataFrame 'df'\n",
    "desviacion_tipica_peso = df['peso'].std()\n",
    "\n",
    "# Imprime el valor calculado de la media de la edad\n",
    "print(\"Media de Edad:\", media_edad)\n",
    "# Imprime el valor calculado de la desviación típica de la edad\n",
    "print(\"Desviación Típica de Edad:\", desviacion_tipica_edad)\n",
    "# Imprime el valor calculado de la media del peso\n",
    "print(\"Media de Peso:\", media_peso)\n",
    "# Imprime el valor calculado de la desviación típica del peso\n",
    "print(\"Desviación Típica de Peso:\", desviacion_tipica_peso)\n"
   ]
  }
 ],
 "metadata": {
  "kernelspec": {
   "display_name": "Python 3",
   "language": "python",
   "name": "python3"
  },
  "language_info": {
   "codemirror_mode": {
    "name": "ipython",
    "version": 3
   },
   "file_extension": ".py",
   "mimetype": "text/x-python",
   "name": "python",
   "nbconvert_exporter": "python",
   "pygments_lexer": "ipython3",
   "version": "3.9.6"
  }
 },
 "nbformat": 4,
 "nbformat_minor": 2
}
